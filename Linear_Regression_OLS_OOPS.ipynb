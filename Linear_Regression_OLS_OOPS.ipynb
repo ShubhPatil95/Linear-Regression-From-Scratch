{
 "cells": [
  {
   "cell_type": "markdown",
   "id": "21abf31f",
   "metadata": {},
   "source": [
    "# OLS Linear Regression"
   ]
  },
  {
   "cell_type": "code",
   "execution_count": 1,
   "id": "8d515324",
   "metadata": {},
   "outputs": [],
   "source": [
    "import numpy as np\n",
    "\n",
    "class MyLinearRegression:\n",
    "    \n",
    "    def __init__(self,fit_intercept=True):\n",
    "        self.coef_ = None\n",
    "        self.intercept_ = None\n",
    "        self._fit_intercept = fit_intercept\n",
    "        \n",
    "    def fit(self,X,y):\n",
    "        \"\"\"\n",
    "        Fit Model Coefficients\n",
    "        Arguments:\n",
    "        X: 1D or 2D numpy array\n",
    "        y: 1D numpy array\n",
    "        \"\"\" \n",
    "        \n",
    "        # Check if X is 2D or 1D array\n",
    "        if len(X.shape) == 1:\n",
    "            X = X.reshape(-1,1)\n",
    "            \n",
    "        # add bias if fit intercept is True\n",
    "        if self._fit_intercept:\n",
    "            X = np.c_[np.ones(X.shape[0]),X]\n",
    "            \n",
    "        #Close form solution\n",
    "        xTx = np.dot(X.T,X)\n",
    "        inverse_xTx = np.linalg.inv(xTx)\n",
    "        xTy = np.dot(X.T,y)\n",
    "        coef = np.dot(inverse_xTx,xTy)\n",
    "        \n",
    "        # set attributes\n",
    "        if self._fit_intercept:\n",
    "            self.intercept_= coef[0]\n",
    "            self.coef_ = coef[1:]\n",
    "        else:\n",
    "            self.intercept_ = 0\n",
    "            self.coef_ = coef\n",
    "            \n",
    "    def predict(self,X):\n",
    "        \"\"\"\n",
    "        Output model prediction.\n",
    "        Arguments:\n",
    "        X: 1D or 2D numpy array\n",
    "        \"\"\"\n",
    "        # check if X is 1D or 2D array\n",
    "        if len(X.shape) == 1:\n",
    "            X = X.reshape(-1,1)\n",
    "        return self.intercept_ + np.dot(X, self.coef_)"
   ]
  },
  {
   "cell_type": "markdown",
   "id": "5d8523ae",
   "metadata": {},
   "source": [
    "# Define class name metrics"
   ]
  },
  {
   "cell_type": "code",
   "execution_count": 179,
   "id": "55f0daa3",
   "metadata": {},
   "outputs": [],
   "source": [
    "class metrics:\n",
    "    \n",
    "    def __init__(self,y,y_pred):\n",
    "        self.actual = y\n",
    "        self.predicted = y_pred\n",
    "    \n",
    "    def sum_sqr_error(self):\n",
    "        '''returns sum of squared errors (model vs actual)'''\n",
    "        squared_errors = (self.actual - self.predicted) ** 2\n",
    "        self.sq_error_ = np.sum(squared_errors)\n",
    "        return self.sq_error_\n",
    "        \n",
    "    def sum_sqr_total_error(self):\n",
    "        '''returns total sum of squared errors (actual vs avg(actual))'''\n",
    "        avg_y = np.mean(self.actual)\n",
    "        squared_errors = (self.actual - avg_y) ** 2\n",
    "        self.sst_ = np.sum(squared_errors)\n",
    "        return self.sst_\n",
    "    \n",
    "    def r_squared(self):\n",
    "        '''returns calculated value of r^2'''\n",
    "        self.r_sq_ = 1 - self.sum_sqr_error()/self.sum_sqr_total_error()\n",
    "        return self.r_sq_\n",
    "\n",
    "    def mean_sqr_error(self):\n",
    "        '''returns calculated value of mse'''\n",
    "        self.mse_ = np.mean( (self.predicted - self.actual) ** 2 )\n",
    "        return self.mse_\n",
    "    \n",
    "    def mean_abs_per_error(self):\n",
    "        '''returns calculated value of mse'''\n",
    "        self.mse_ = np.sum(np.abs((self.predicted - self.actual)/self.actual))/len(self.predicted)\n",
    "        return self.mse_\n",
    "\n",
    "    \n",
    "    def pretty_print_stats(self):\n",
    "        '''returns report of statistics for a given model object'''\n",
    "        items = ( ('sum_sqr_error:', self.sum_sqr_error()), ('sum_sqr_total_error:', self.sum_sqr_total_error()), \n",
    "                 ('mean_sqr_error:', self.mean_sqr_error()), ('r^2:', self.r_squared()),('mean_abs_per_error:',self.mean_abs_per_error()))\n",
    "        for item in items:\n",
    "            print('{0:20} {1:.3f}'.format(item[0], item[1]))"
   ]
  },
  {
   "cell_type": "markdown",
   "id": "1893d45b",
   "metadata": {},
   "source": [
    "# Testing"
   ]
  },
  {
   "cell_type": "markdown",
   "id": "ee4c1894",
   "metadata": {},
   "source": [
    "### Create dataset"
   ]
  },
  {
   "cell_type": "code",
   "execution_count": 174,
   "id": "f6789f4c",
   "metadata": {},
   "outputs": [],
   "source": [
    "X = np.array([1,2,3,4,5,6,7,8,9])\n",
    "Y = np.array([1,2,3,4,5,6,7,8,9])"
   ]
  },
  {
   "cell_type": "markdown",
   "id": "f1ff66bd",
   "metadata": {},
   "source": [
    "### Fit a model"
   ]
  },
  {
   "cell_type": "code",
   "execution_count": 175,
   "id": "84d96496",
   "metadata": {},
   "outputs": [],
   "source": [
    "mlr = MyLinearRegression()\n",
    "mlr.fit(X, Y)"
   ]
  },
  {
   "cell_type": "markdown",
   "id": "259c7c16",
   "metadata": {},
   "source": [
    "### Check Coefficient and Intercept"
   ]
  },
  {
   "cell_type": "code",
   "execution_count": 176,
   "id": "fc9bae12",
   "metadata": {},
   "outputs": [
    {
     "name": "stdout",
     "output_type": "stream",
     "text": [
      "Coefficient: [1.]\n",
      "Intercept:0.0\n"
     ]
    }
   ],
   "source": [
    "Coefficients = mlr.coef_\n",
    "Intercept = mlr.intercept_\n",
    "print(f\"Coefficient: {Coefficients}\")\n",
    "print(f\"Intercept:{Intercept}\")"
   ]
  },
  {
   "cell_type": "markdown",
   "id": "f18588ce",
   "metadata": {},
   "source": [
    "### Predictions"
   ]
  },
  {
   "cell_type": "code",
   "execution_count": 177,
   "id": "7518c318",
   "metadata": {},
   "outputs": [
    {
     "data": {
      "text/plain": [
       "array([1., 2., 3., 4., 5., 6., 7., 8., 9.])"
      ]
     },
     "execution_count": 177,
     "metadata": {},
     "output_type": "execute_result"
    }
   ],
   "source": [
    "Y_pred = mlr.predict(X)\n",
    "Y_pred"
   ]
  },
  {
   "cell_type": "markdown",
   "id": "6caef4c2",
   "metadata": {},
   "source": [
    "### Metrics Report"
   ]
  },
  {
   "cell_type": "code",
   "execution_count": 178,
   "id": "5173f712",
   "metadata": {},
   "outputs": [
    {
     "name": "stdout",
     "output_type": "stream",
     "text": [
      "sum_sqr_error:       0.000\n",
      "sum_sqr_total_error: 60.000\n",
      "mean_sqr_error:      0.000\n",
      "r^2:                 1.000\n",
      "MAPE:                0.000\n"
     ]
    }
   ],
   "source": [
    "metrics = metrics(Y,Y_pred)\n",
    "metrics.pretty_print_stats()"
   ]
  },
  {
   "cell_type": "code",
   "execution_count": null,
   "id": "528d5f36",
   "metadata": {},
   "outputs": [],
   "source": []
  }
 ],
 "metadata": {
  "kernelspec": {
   "display_name": "Python 3 (ipykernel)",
   "language": "python",
   "name": "python3"
  },
  "language_info": {
   "codemirror_mode": {
    "name": "ipython",
    "version": 3
   },
   "file_extension": ".py",
   "mimetype": "text/x-python",
   "name": "python",
   "nbconvert_exporter": "python",
   "pygments_lexer": "ipython3",
   "version": "3.8.8"
  }
 },
 "nbformat": 4,
 "nbformat_minor": 5
}
